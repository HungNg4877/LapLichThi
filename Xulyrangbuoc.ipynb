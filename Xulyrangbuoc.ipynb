{
 "cells": [
  {
   "cell_type": "code",
   "execution_count": 8,
   "metadata": {},
   "outputs": [
    {
     "name": "stderr",
     "output_type": "stream",
     "text": [
      "<>:3: SyntaxWarning: invalid escape sequence '\\B'\n",
      "<>:5: SyntaxWarning: invalid escape sequence '\\B'\n",
      "<>:7: SyntaxWarning: invalid escape sequence '\\B'\n",
      "<>:3: SyntaxWarning: invalid escape sequence '\\B'\n",
      "<>:5: SyntaxWarning: invalid escape sequence '\\B'\n",
      "<>:7: SyntaxWarning: invalid escape sequence '\\B'\n",
      "C:\\Users\\Admin\\AppData\\Local\\Temp\\ipykernel_12324\\2569467624.py:3: SyntaxWarning: invalid escape sequence '\\B'\n",
      "  file_path_1 = 'D:\\Báo cáo tốt nghiệp\\Dữ liệu gốc.xlsx'\n",
      "C:\\Users\\Admin\\AppData\\Local\\Temp\\ipykernel_12324\\2569467624.py:5: SyntaxWarning: invalid escape sequence '\\B'\n",
      "  file_path_2 = 'D:\\Báo cáo tốt nghiệp\\Dữ liệu DSSV CT2.xlsx'\n",
      "C:\\Users\\Admin\\AppData\\Local\\Temp\\ipykernel_12324\\2569467624.py:7: SyntaxWarning: invalid escape sequence '\\B'\n",
      "  file_path_3 = 'D:\\Báo cáo tốt nghiệp\\Dữ liệu Học phần thay thế.xlsx'\n"
     ]
    }
   ],
   "source": [
    "import pandas as pd\n",
    "# Đường dẫn đến tệp Excel\n",
    "file_path_1 = 'D:\\Báo cáo tốt nghiệp\\Dữ liệu gốc.xlsx'\n",
    "\n",
    "file_path_2 = 'D:\\Báo cáo tốt nghiệp\\Dữ liệu DSSV CT2.xlsx'\n",
    "\n",
    "file_path_3 = 'D:\\Báo cáo tốt nghiệp\\Dữ liệu Học phần thay thế.xlsx'\n",
    "# Đọc dữ liệu từ tệp Excel\n",
    "df_1 = pd.read_excel(file_path_1)\n",
    "df_2 = pd.read_excel(file_path_2)\n",
    "df_3 = pd.read_excel(file_path_3)\n"
   ]
  },
  {
   "cell_type": "code",
   "execution_count": 9,
   "metadata": {},
   "outputs": [],
   "source": [
    "#Xử lý mã học phần thay thế\n",
    "mhp_values = set(df_3['Mã học phần'])\n",
    "mhptt_mapping = dict(zip(df_3['Mã học phần'], df_3['Mã học phần thay thế']))\n",
    "mask = df_1['Mã học phần'].isin(mhp_values)\n",
    "df_1.loc[mask, 'Ghi chú'] = df_1.loc[mask, 'Mã học phần'].map(lambda x: f\"Mã học phần cũ: {x}\")\n",
    "df_1['Mã học phần'] = df_1['Mã học phần'].apply(lambda x: mhptt_mapping[x] if x in mhp_values else x)"
   ]
  },
  {
   "cell_type": "code",
   "execution_count": 10,
   "metadata": {},
   "outputs": [],
   "source": [
    "#Xử lý sinh viên học 2 CT\n",
    "df_1['Ghi chú 2']=\"\"\n",
    "df_2['MSV_CT1'] = df_2['MSV_CT1'].fillna(0).astype(int)\n",
    "msv_ct1_values = set(df_2['MSV_CT1'])\n",
    "msv_ct_mapping = dict(zip(df_2['MSV_CT1'], df_2['MSV_CT2']))\n",
    "mask = df_1['MSV'].isin(msv_ct1_values)\n",
    "df_1.loc[mask, 'Ghi chú 2'] = df_1.loc[mask, 'MSV'].map(lambda x: f\"MSV_CT1: {x}\")\n",
    "df_1['MSV'] = df_1['MSV'].apply(lambda x: msv_ct_mapping[x] if x in msv_ct1_values else x)"
   ]
  },
  {
   "cell_type": "code",
   "execution_count": 11,
   "metadata": {},
   "outputs": [],
   "source": [
    "#Xử lý sinh viên SV đã thôi học,SV rút HP,SV tạm ngừng học\n",
    "conditions = ['SV đã thôi học', 'SV rút HP', 'SV tạm ngừng học']\n",
    "# # # Tạo điều kiện tổng hợp\n",
    "total_condition_1 = '|'.join(f\"(?=.*{condition})\" for condition in conditions)\n",
    "# Lọc và xóa các dòng thoả mãn điều kiện\n",
    "df_1 = df_1[~df_1['Ghi chú'].str.contains(total_condition_1, case=False, na=False)]"
   ]
  },
  {
   "cell_type": "code",
   "execution_count": 12,
   "metadata": {},
   "outputs": [],
   "source": [
    "#Xử lý học phần miễn ngoại ngữ\n",
    "condition = 'Miễn'\n",
    "\n",
    "# Lọc và xóa các dòng thoả mãn điều kiện\n",
    "df_1 = df_1[~df_1['HP miễn ngoại ngữ'].str.contains(condition, case=False, na=False)]"
   ]
  },
  {
   "cell_type": "code",
   "execution_count": 13,
   "metadata": {},
   "outputs": [],
   "source": [
    "#Xử lý học phần thi TA\n",
    "for index, row in df_1.iterrows():\n",
    "    if isinstance(row['Đề thi TA'], str) and 'x' in row['Đề thi TA']:\n",
    "        df_1.at[index, 'Mã học phần'] += '_Anh'"
   ]
  },
  {
   "cell_type": "code",
   "execution_count": 14,
   "metadata": {},
   "outputs": [
    {
     "name": "stderr",
     "output_type": "stream",
     "text": [
      "<>:1: SyntaxWarning: invalid escape sequence '\\B'\n",
      "<>:1: SyntaxWarning: invalid escape sequence '\\B'\n",
      "C:\\Users\\Admin\\AppData\\Local\\Temp\\ipykernel_12324\\2936297414.py:1: SyntaxWarning: invalid escape sequence '\\B'\n",
      "  df_1.to_excel('D:\\Báo cáo tốt nghiệp\\OutputXulycacrangbuoc.xlsx', index=False)\n"
     ]
    }
   ],
   "source": [
    "\n",
    "df_1.to_excel('D:\\Báo cáo tốt nghiệp\\OutputXulycacrangbuoc.xlsx', index=False)"
   ]
  }
 ],
 "metadata": {
  "kernelspec": {
   "display_name": "Python 3",
   "language": "python",
   "name": "python3"
  },
  "language_info": {
   "codemirror_mode": {
    "name": "ipython",
    "version": 3
   },
   "file_extension": ".py",
   "mimetype": "text/x-python",
   "name": "python",
   "nbconvert_exporter": "python",
   "pygments_lexer": "ipython3",
   "version": "3.12.2"
  }
 },
 "nbformat": 4,
 "nbformat_minor": 2
}
