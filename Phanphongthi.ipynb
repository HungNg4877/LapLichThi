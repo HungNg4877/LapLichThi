{
 "cells": [
  {
   "cell_type": "code",
   "execution_count": 1,
   "metadata": {},
   "outputs": [
    {
     "name": "stderr",
     "output_type": "stream",
     "text": [
      "<>:3: SyntaxWarning: invalid escape sequence '\\B'\n",
      "<>:8: SyntaxWarning: invalid escape sequence '\\B'\n",
      "<>:3: SyntaxWarning: invalid escape sequence '\\B'\n",
      "<>:8: SyntaxWarning: invalid escape sequence '\\B'\n",
      "C:\\Users\\Admin\\AppData\\Local\\Temp\\ipykernel_7396\\1466296133.py:3: SyntaxWarning: invalid escape sequence '\\B'\n",
      "  file_path_1 = 'D:\\Báo cáo tốt nghiệp\\Output Phâncathi.xlsx'\n",
      "C:\\Users\\Admin\\AppData\\Local\\Temp\\ipykernel_7396\\1466296133.py:8: SyntaxWarning: invalid escape sequence '\\B'\n",
      "  file_path_2 = 'D:\\Báo cáo tốt nghiệp\\Dữ liệu phòng thi.xlsx'\n"
     ]
    }
   ],
   "source": [
    "import pandas as pd\n",
    "# Đường dẫn đến tệp Excel\n",
    "file_path_1 = 'D:\\Báo cáo tốt nghiệp\\Output Phâncathi.xlsx'\n",
    "\n",
    "# Đọc dữ liệu từ tệp Excel\n",
    "df_1 = pd.read_excel(file_path_1)\n",
    "#\n",
    "file_path_2 = 'D:\\Báo cáo tốt nghiệp\\Dữ liệu phòng thi.xlsx'\n",
    "\n",
    "# Đọc dữ liệu từ tệp Excel\n",
    "df_2 = pd.read_excel(file_path_2)\n"
   ]
  },
  {
   "cell_type": "code",
   "execution_count": 2,
   "metadata": {},
   "outputs": [
    {
     "name": "stdout",
     "output_type": "stream",
     "text": [
      "         MSV Mã học phần  Ca thi Mã phòng\n",
      "0          1     HOS3010      27    A 108\n",
      "1          2     HOS3010      27    A 108\n",
      "2          3     HOS3010      27    A 108\n",
      "3          4     HOS3010      27    A 108\n",
      "4          5     HOS3010      27    A 108\n",
      "...      ...         ...     ...      ...\n",
      "48235  12609     LAW3040      34     C205\n",
      "48236  12610     LAW3040      34     C205\n",
      "48237  12611     LAW3040      34     C205\n",
      "48238   2274     LAW3040      34     C205\n",
      "48239  12432     LAW3040      34     C205\n",
      "\n",
      "[48240 rows x 4 columns]\n"
     ]
    }
   ],
   "source": [
    "import numpy as np\n",
    "import pandas as pd\n",
    "import math\n",
    "\n",
    "def assign_exam_rooms(df_1, df_2, students_per_room, rooms_per_shift):\n",
    "    # Tạo cột 'Mã phòng' trong df_1 để lưu thông tin về phòng thi được gán cho từng sinh viên\n",
    "    df_1['Mã phòng'] = \"\"\n",
    "\n",
    "    # Tạo danh sách các ca thi và phòng thi\n",
    "    count_shifts = df_1['Ca thi'].unique()\n",
    "    sorted_shifts = sorted(count_shifts)\n",
    "    count_rooms = df_2['Mã phòng'].unique()\n",
    "    # students_per_shift=students_per_room*rooms_per_shift\n",
    "    # Tạo một từ điển để lưu trữ các phòng thi đã được gán cho mỗi ca thi\n",
    "    assigned_rooms_per_shift = {shift: set() for shift in sorted_shifts}\n",
    "\n",
    "    # Lặp qua từng ca thi\n",
    "    for shift in sorted_shifts:\n",
    " \n",
    "        # Lấy danh sách các học phần trong ca thi hiện tại\n",
    "        courses_in_shift = df_1[df_1['Ca thi'] == shift]['Mã học phần'].unique().tolist()\n",
    "        \n",
    "        # Lặp qua từng học phần trong ca thi\n",
    "        for course in courses_in_shift:\n",
    "            # students_per_course[course] = df_1[(df_1['Mã học phần'] == course) & (df_1['Ca thi'] == shift)].copy()\n",
    "\n",
    "            no_students = len(df_1[(df_1['Mã học phần'] == course) & (df_1['Ca thi'] == shift)])\n",
    "\n",
    "            rooms_needed = math.ceil(no_students / students_per_room)\n",
    "            students_per_room_now=math.ceil(no_students/rooms_needed)\n",
    "            # Phân bổ sinh viên vào các phòng thi khác nhau\n",
    "            assigned_rooms = 0\n",
    "            for room in count_rooms:   \n",
    "                if room not in assigned_rooms_per_shift[shift]:\n",
    "                    available_students = df_1[(df_1['Mã học phần'] == course) & (df_1['Ca thi'] == shift) & (df_1['Mã phòng'] == '')]\n",
    "                    available_student_count = len(available_students)\n",
    "                    if available_student_count>0:\n",
    "                    # df_1.loc[(df_1['Mã học phần'] == course) & (df_1['Ca thi'] == shift), 'Mã phòng'] = room\n",
    "                        df_1.loc[available_students.index[:students_per_room_now], 'Mã phòng'] = room\n",
    "                        assigned_rooms_per_shift[shift].add(room)\n",
    "                        assigned_rooms += 1\n",
    "                    \n",
    "                    if assigned_rooms == rooms_needed:\n",
    "                            break\n",
    "    \n",
    "    # In ra danh sách sinh viên đã được phân phòng thi\n",
    "    print(df_1[['MSV', 'Mã học phần', 'Ca thi', 'Mã phòng']])\n",
    "    \n",
    "\n",
    "# Gọi hàm để phân phòng thi cho danh sách sinh viên\n",
    "rooms_per_shift = 35\n",
    "students_per_room = 40\n",
    "assign_exam_rooms(df_1, df_2, students_per_room, rooms_per_shift)\n"
   ]
  },
  {
   "cell_type": "code",
   "execution_count": 3,
   "metadata": {},
   "outputs": [
    {
     "name": "stderr",
     "output_type": "stream",
     "text": [
      "<>:1: SyntaxWarning: invalid escape sequence '\\B'\n",
      "<>:1: SyntaxWarning: invalid escape sequence '\\B'\n",
      "C:\\Users\\Admin\\AppData\\Local\\Temp\\ipykernel_7396\\1317076877.py:1: SyntaxWarning: invalid escape sequence '\\B'\n",
      "  df_1.to_excel('D:\\Báo cáo tốt nghiệp\\Output Phân phòng thi.xlsx', index=False)\n"
     ]
    }
   ],
   "source": [
    "df_1.to_excel('D:\\Báo cáo tốt nghiệp\\Output Phân phòng thi.xlsx', index=False)"
   ]
  }
 ],
 "metadata": {
  "kernelspec": {
   "display_name": "Python 3",
   "language": "python",
   "name": "python3"
  },
  "language_info": {
   "codemirror_mode": {
    "name": "ipython",
    "version": 3
   },
   "file_extension": ".py",
   "mimetype": "text/x-python",
   "name": "python",
   "nbconvert_exporter": "python",
   "pygments_lexer": "ipython3",
   "version": "3.12.2"
  }
 },
 "nbformat": 4,
 "nbformat_minor": 2
}
